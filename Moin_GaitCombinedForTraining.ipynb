{
  "nbformat": 4,
  "nbformat_minor": 0,
  "metadata": {
    "colab": {
      "provenance": [],
      "collapsed_sections": [
        "UB0c4YxQYVPt",
        "dLhyjh72YX6U",
        "yHRknbpCYZwF",
        "iDqr47LNRxLP",
        "eZvVXvXHcKDa",
        "4r1jLTe5cMCw",
        "2dImq6M2s9ll",
        "wVJATu_oIBjS",
        "_KxWfpqg6KAs",
        "vsQ_Ke-W6QA7",
        "kVuivAg76WMy"
      ]
    },
    "kernelspec": {
      "name": "python3",
      "display_name": "Python 3"
    },
    "language_info": {
      "name": "python"
    },
    "accelerator": "TPU"
  },
  "cells": [
    {
      "cell_type": "code",
      "execution_count": null,
      "metadata": {
        "colab": {
          "base_uri": "https://localhost:8080/"
        },
        "id": "8BT-Y06IXRsd",
        "outputId": "d363d4c3-a6f8-40c3-aa84-100d866929e7"
      },
      "outputs": [
        {
          "output_type": "stream",
          "name": "stdout",
          "text": [
            "Drive already mounted at /content/drive; to attempt to forcibly remount, call drive.mount(\"/content/drive\", force_remount=True).\n"
          ]
        }
      ],
      "source": [
        "from google.colab import drive\n",
        "drive.mount('/content/drive')"
      ]
    },
    {
      "cell_type": "markdown",
      "source": [
        "# Library"
      ],
      "metadata": {
        "id": "UB0c4YxQYVPt"
      }
    },
    {
      "cell_type": "code",
      "source": [
        "import pandas as pd\n",
        "import os\n",
        "import numpy as np\n",
        "import matplotlib.pyplot as plt\n",
        "from scipy import signal\n",
        "from scipy.stats import pearsonr\n",
        "from scipy.signal import find_peaks\n",
        "import seaborn as sns\n",
        "from sklearn.model_selection import train_test_split\n",
        "import tensorflow as tf\n",
        "%matplotlib inline\n",
        "\n",
        "font_size = 16\n",
        "# Specify the path to save containing data CSV files\n",
        "root_path = '/content/drive/MyDrive/VLSIDC/VLSIDesignContestDataset/healthy gait'\n",
        "# path = '/content/drive/MyDrive/VLSIDC/VLSIDesignContestDataset/healthy gait/Moin'\n",
        "# path2 = '/content/drive/MyDrive/VLSIDC/VLSIDesignContestDataset/healthy gait/Avanti'\n",
        "# path3 = '/content/drive/MyDrive/VLSIDC/VLSIDesignContestDataset/healthy gait/Kartikee'\n",
        "# path4 = '/content/drive/MyDrive/VLSIDC/VLSIDesignContestDataset/healthy gait/Rufaida'\n",
        "fs = 104\n",
        "cutoff_frequency = 2  # Hz\n",
        "filter_types = ['butterworth']\n",
        "# Specify the path to save the result CSV file\n",
        "result_path = '/content/drive/MyDrive/VLSIDC/Result'"
      ],
      "metadata": {
        "id": "ITPKilsoX2VG"
      },
      "execution_count": null,
      "outputs": []
    },
    {
      "cell_type": "markdown",
      "source": [
        "# Functions"
      ],
      "metadata": {
        "id": "dLhyjh72YX6U"
      }
    },
    {
      "cell_type": "code",
      "source": [
        "def apply_lowpass_filters(data, sampling_frequency, cutoff_frequency, filter_types, filter_order=4):\n",
        "    \"\"\"\n",
        "    Apply multiple lowpass filters (including moving average) to the input data and calculate correlation coefficients.\n",
        "\n",
        "    Parameters:\n",
        "    - data (array-like): The input data to filter.\n",
        "    - sampling_frequency (float): The sampling frequency of the input data (in Hz).\n",
        "    - cutoff_frequency (float): The cutoff frequency of the lowpass filters (in Hz).\n",
        "    - filter_types (list of str): A list of filter types to use ('butterworth', 'chebyshev1', 'chebyshev2', 'moving_average').\n",
        "    - filter_order (int): The order of the filters (only applicable to certain filter types).\n",
        "\n",
        "    Returns:\n",
        "    - results (dict): A dictionary containing filtered data and correlation coefficients for each filter type.\n",
        "    \"\"\"\n",
        "    nyquist_frequency = 0.5 * sampling_frequency\n",
        "    results = {}\n",
        "\n",
        "    for filter_type in filter_types:\n",
        "        if filter_type == 'butterworth':\n",
        "            b, a = signal.butter(filter_order, cutoff_frequency / nyquist_frequency, btype='low')\n",
        "            filtered_data = signal.filtfilt(b, a, data)\n",
        "        elif filter_type == 'chebyshev1':\n",
        "            b, a = signal.cheby1(filter_order, 1, cutoff_frequency / nyquist_frequency, btype='low')\n",
        "            filtered_data = signal.filtfilt(b, a, data)\n",
        "        elif filter_type == 'chebyshev2':\n",
        "            b, a = signal.cheby2(filter_order, 30, cutoff_frequency / nyquist_frequency, btype='low')\n",
        "            filtered_data = signal.filtfilt(b, a, data)\n",
        "        elif filter_type == 'moving_average':\n",
        "            filter_window = int(sampling_frequency / cutoff_frequency)  # Window size for moving average\n",
        "            filtered_data = np.convolve(data, np.ones(filter_window) / filter_window, mode='same')\n",
        "        else:\n",
        "            raise ValueError(\"Invalid filter_type. Supported types: 'butterworth', 'chebyshev1', 'chebyshev2', 'moving_average'\")\n",
        "\n",
        "        correlation_coefficient, _ = pearsonr(data, filtered_data)\n",
        "\n",
        "        results[filter_type] = {\n",
        "            'filtered_data': filtered_data,\n",
        "            'correlation_coefficient': correlation_coefficient\n",
        "        }\n",
        "\n",
        "    return results"
      ],
      "metadata": {
        "id": "FQV0Xn1eYZh9"
      },
      "execution_count": null,
      "outputs": []
    },
    {
      "cell_type": "markdown",
      "source": [
        "# Data Read"
      ],
      "metadata": {
        "id": "yHRknbpCYZwF"
      }
    },
    {
      "cell_type": "code",
      "source": [
        "csv_files = []\n",
        "# Iterate through each folder in the root directory\n",
        "for folder_name in os.listdir(root_path):\n",
        "    folder_path = os.path.join(root_path, folder_name)\n",
        "\n",
        "    # Check if the item in the root directory is a folder\n",
        "    if os.path.isdir(folder_path):\n",
        "        # Iterate through each file in the folder\n",
        "        for file_name in os.listdir(folder_path):\n",
        "            file_path = os.path.join(folder_path, file_name)\n",
        "\n",
        "            # Check if the file has a .csv extension\n",
        "            if file_name.endswith('.csv') and os.path.isfile(file_path):\n",
        "                # Append the full file path to the csv_files list\n",
        "                csv_files.append(file_path)\n",
        "\n",
        "# Print the list of full file paths for CSV files\n",
        "for csv_file in csv_files:\n",
        "  print(csv_file)"
      ],
      "metadata": {
        "colab": {
          "base_uri": "https://localhost:8080/"
        },
        "id": "8NV35g1o2DD-",
        "outputId": "b3c85dbd-2be3-4789-e630-1e6dc8ca234a"
      },
      "execution_count": null,
      "outputs": [
        {
          "output_type": "stream",
          "name": "stdout",
          "text": [
            "/content/drive/MyDrive/VLSIDC/VLSIDesignContestDataset/healthy gait/Kartikee/data01.csv\n",
            "/content/drive/MyDrive/VLSIDC/VLSIDesignContestDataset/healthy gait/Kartikee/data03.csv\n",
            "/content/drive/MyDrive/VLSIDC/VLSIDesignContestDataset/healthy gait/Kartikee/data04.csv\n",
            "/content/drive/MyDrive/VLSIDC/VLSIDesignContestDataset/healthy gait/Kartikee/data05.csv\n",
            "/content/drive/MyDrive/VLSIDC/VLSIDesignContestDataset/healthy gait/Kartikee/data02.csv\n",
            "/content/drive/MyDrive/VLSIDC/VLSIDesignContestDataset/healthy gait/Kartikee/data06.csv\n",
            "/content/drive/MyDrive/VLSIDC/VLSIDesignContestDataset/healthy gait/Kartikee/data07.csv\n",
            "/content/drive/MyDrive/VLSIDC/VLSIDesignContestDataset/healthy gait/Kartikee/data08.csv\n",
            "/content/drive/MyDrive/VLSIDC/VLSIDesignContestDataset/healthy gait/Kartikee/data09.csv\n",
            "/content/drive/MyDrive/VLSIDC/VLSIDesignContestDataset/healthy gait/Kartikee/data10.csv\n",
            "/content/drive/MyDrive/VLSIDC/VLSIDesignContestDataset/healthy gait/Kartikee/data11.csv\n",
            "/content/drive/MyDrive/VLSIDC/VLSIDesignContestDataset/healthy gait/Kartikee/data12.csv\n",
            "/content/drive/MyDrive/VLSIDC/VLSIDesignContestDataset/healthy gait/Kartikee/data15.csv\n",
            "/content/drive/MyDrive/VLSIDC/VLSIDesignContestDataset/healthy gait/Kartikee/data13.csv\n",
            "/content/drive/MyDrive/VLSIDC/VLSIDesignContestDataset/healthy gait/Kartikee/data14.csv\n",
            "/content/drive/MyDrive/VLSIDC/VLSIDesignContestDataset/healthy gait/Moin/data01.csv\n",
            "/content/drive/MyDrive/VLSIDC/VLSIDesignContestDataset/healthy gait/Moin/data02.csv\n",
            "/content/drive/MyDrive/VLSIDC/VLSIDesignContestDataset/healthy gait/Moin/data03.csv\n",
            "/content/drive/MyDrive/VLSIDC/VLSIDesignContestDataset/healthy gait/Moin/data04.csv\n",
            "/content/drive/MyDrive/VLSIDC/VLSIDesignContestDataset/healthy gait/Moin/data06.csv\n",
            "/content/drive/MyDrive/VLSIDC/VLSIDesignContestDataset/healthy gait/Moin/data07.csv\n",
            "/content/drive/MyDrive/VLSIDC/VLSIDesignContestDataset/healthy gait/Moin/data05.csv\n",
            "/content/drive/MyDrive/VLSIDC/VLSIDesignContestDataset/healthy gait/Moin/data08.csv\n",
            "/content/drive/MyDrive/VLSIDC/VLSIDesignContestDataset/healthy gait/Moin/data09.csv\n",
            "/content/drive/MyDrive/VLSIDC/VLSIDesignContestDataset/healthy gait/Moin/data10.csv\n",
            "/content/drive/MyDrive/VLSIDC/VLSIDesignContestDataset/healthy gait/Moin/data11.csv\n",
            "/content/drive/MyDrive/VLSIDC/VLSIDesignContestDataset/healthy gait/Moin/data12.csv\n",
            "/content/drive/MyDrive/VLSIDC/VLSIDesignContestDataset/healthy gait/Moin/data13.csv\n",
            "/content/drive/MyDrive/VLSIDC/VLSIDesignContestDataset/healthy gait/Moin/data14.csv\n",
            "/content/drive/MyDrive/VLSIDC/VLSIDesignContestDataset/healthy gait/Moin/data15.csv\n",
            "/content/drive/MyDrive/VLSIDC/VLSIDesignContestDataset/healthy gait/Avanti/data08.csv\n",
            "/content/drive/MyDrive/VLSIDC/VLSIDesignContestDataset/healthy gait/Avanti/data01.csv\n",
            "/content/drive/MyDrive/VLSIDC/VLSIDesignContestDataset/healthy gait/Avanti/data02.csv\n",
            "/content/drive/MyDrive/VLSIDC/VLSIDesignContestDataset/healthy gait/Avanti/data03.csv\n",
            "/content/drive/MyDrive/VLSIDC/VLSIDesignContestDataset/healthy gait/Avanti/data10.csv\n",
            "/content/drive/MyDrive/VLSIDC/VLSIDesignContestDataset/healthy gait/Avanti/data05.csv\n",
            "/content/drive/MyDrive/VLSIDC/VLSIDesignContestDataset/healthy gait/Avanti/data04.csv\n",
            "/content/drive/MyDrive/VLSIDC/VLSIDesignContestDataset/healthy gait/Avanti/data07.csv\n",
            "/content/drive/MyDrive/VLSIDC/VLSIDesignContestDataset/healthy gait/Avanti/data06.csv\n",
            "/content/drive/MyDrive/VLSIDC/VLSIDesignContestDataset/healthy gait/Avanti/data09.csv\n",
            "/content/drive/MyDrive/VLSIDC/VLSIDesignContestDataset/healthy gait/Avanti/data11.csv\n",
            "/content/drive/MyDrive/VLSIDC/VLSIDesignContestDataset/healthy gait/Avanti/data12.csv\n",
            "/content/drive/MyDrive/VLSIDC/VLSIDesignContestDataset/healthy gait/Avanti/data13.csv\n",
            "/content/drive/MyDrive/VLSIDC/VLSIDesignContestDataset/healthy gait/Avanti/data14.csv\n",
            "/content/drive/MyDrive/VLSIDC/VLSIDesignContestDataset/healthy gait/Avanti/data15.csv\n",
            "/content/drive/MyDrive/VLSIDC/VLSIDesignContestDataset/healthy gait/Rufaida/data04.csv\n",
            "/content/drive/MyDrive/VLSIDC/VLSIDesignContestDataset/healthy gait/Rufaida/data01.csv\n",
            "/content/drive/MyDrive/VLSIDC/VLSIDesignContestDataset/healthy gait/Rufaida/data05.csv\n",
            "/content/drive/MyDrive/VLSIDC/VLSIDesignContestDataset/healthy gait/Rufaida/data03.csv\n",
            "/content/drive/MyDrive/VLSIDC/VLSIDesignContestDataset/healthy gait/Rufaida/data02.csv\n",
            "/content/drive/MyDrive/VLSIDC/VLSIDesignContestDataset/healthy gait/Rufaida/data06.csv\n",
            "/content/drive/MyDrive/VLSIDC/VLSIDesignContestDataset/healthy gait/Rufaida/data07.csv\n",
            "/content/drive/MyDrive/VLSIDC/VLSIDesignContestDataset/healthy gait/Rufaida/data08.csv\n",
            "/content/drive/MyDrive/VLSIDC/VLSIDesignContestDataset/healthy gait/Rufaida/data09.csv\n",
            "/content/drive/MyDrive/VLSIDC/VLSIDesignContestDataset/healthy gait/Rufaida/data10.csv\n",
            "/content/drive/MyDrive/VLSIDC/VLSIDesignContestDataset/healthy gait/Rufaida/data12.csv\n",
            "/content/drive/MyDrive/VLSIDC/VLSIDesignContestDataset/healthy gait/Rufaida/data11.csv\n",
            "/content/drive/MyDrive/VLSIDC/VLSIDesignContestDataset/healthy gait/Rufaida/data13.csv\n",
            "/content/drive/MyDrive/VLSIDC/VLSIDesignContestDataset/healthy gait/Rufaida/data14.csv\n",
            "/content/drive/MyDrive/VLSIDC/VLSIDesignContestDataset/healthy gait/Rufaida/data15.csv\n"
          ]
        }
      ]
    },
    {
      "cell_type": "code",
      "source": [
        "# csv_files = [file for file in os.listdir(path) if file.endswith('.csv')]\n",
        "dataframes = []\n",
        "# Loop through each CSV file and read it into a separate dataframe\n",
        "for csv_file in csv_files:\n",
        "  print(csv_file)\n",
        "  # # Construct the full file path\n",
        "  # file_path = os.path.join(path, csv_file)\n",
        "\n",
        "  # Read the CSV file into a dataframe\n",
        "  data = pd.read_csv(csv_file)\n",
        "  # # Store the dataframe in the dictionary with the file name as the key\n",
        "  # dataframes[csv_file] = data\n",
        "\n",
        "  HeelADCRaw = data['Heel ADC0']\n",
        "  MidFootADCRaw = data['MidFoot ADC1']\n",
        "  ToeADCRaw = data['Toe ADC2']\n",
        "\n",
        "  GyroXRaw = data[' GyroX (deg/s)']\n",
        "  GyroXRaw = GyroXRaw - np.min(GyroXRaw)\n",
        "  GyroYRaw = data[' GyroY (deg/s)']\n",
        "  GyroYRaw = GyroYRaw - np.min(GyroYRaw)\n",
        "  GyroZRaw = data[' GyroZ (deg/s)']\n",
        "  GyroZRaw = GyroZRaw - np.min(GyroZRaw)\n",
        "\n",
        "  AccXRaw = data[' AccX (g)']\n",
        "  AccYRaw = data[' AccY (g)']\n",
        "  AccZRaw = data[' AccZ (g)']\n",
        "\n",
        "  start, end = 0, len(GyroZRaw)\n",
        "  GyroXRawSeg = GyroXRaw[start: end]\n",
        "  GyroYRawSeg = GyroYRaw[start: end]\n",
        "  GyroZRawSeg = GyroZRaw[start: end]\n",
        "\n",
        "  results1 = apply_lowpass_filters(AccXRaw, fs, cutoff_frequency, filter_types, 2)\n",
        "  for filter_type, result in results1.items():\n",
        "    AccXFiltSeg = result['filtered_data']\n",
        "  results1 = apply_lowpass_filters(AccYRaw, fs, cutoff_frequency, filter_types, 2)\n",
        "  for filter_type, result in results1.items():\n",
        "    AccYFiltSeg = result['filtered_data']\n",
        "  results1 = apply_lowpass_filters(AccZRaw, fs, cutoff_frequency, filter_types, 2)\n",
        "  for filter_type, result in results1.items():\n",
        "    AccZFiltSeg = result['filtered_data']\n",
        "\n",
        "  results1 = apply_lowpass_filters(GyroXRawSeg, fs, cutoff_frequency, filter_types, 2)\n",
        "  for filter_type, result in results1.items():\n",
        "    GyroXFiltSeg = result['filtered_data']\n",
        "  results1 = apply_lowpass_filters(GyroYRawSeg, fs, cutoff_frequency, filter_types, 2)\n",
        "  for filter_type, result in results1.items():\n",
        "    GyroYFiltSeg = result['filtered_data']\n",
        "  results1 = apply_lowpass_filters(GyroZRawSeg, fs, cutoff_frequency, filter_types, 2)\n",
        "  for filter_type, result in results1.items():\n",
        "    GyroZFiltSeg = result['filtered_data']\n",
        "\n",
        "  # plt.figure(figsize=(20, 10))\n",
        "  # plt.subplot(211)\n",
        "  # plt.title('Filtered Signal', fontsize = font_size)\n",
        "  # plt.plot(GyroZRawSeg, label='Raw Data', alpha=0.6, linewidth=2)\n",
        "  # plt.ylabel('Amplitude', fontsize = font_size)\n",
        "  # plt.legend(fontsize = font_size)\n",
        "  # plt.grid(True)\n",
        "  # plt.tight_layout()\n",
        "  # plt.subplot(212)\n",
        "  # plt.plot(GyroZFiltSeg, label='Filtered Data', alpha=0.6, linewidth=2)\n",
        "  # plt.xlabel('Samples', fontsize = font_size)\n",
        "  # plt.ylabel('Amplitude', fontsize = font_size)\n",
        "  # plt.legend(fontsize = font_size)\n",
        "  # plt.grid(True)\n",
        "  # plt.tight_layout()\n",
        "  # plt.show()\n",
        "\n",
        "  ## Find max of the given window\n",
        "  max_window = max(GyroZFiltSeg)\n",
        "  # print(max_window)\n",
        "\n",
        "  ## Find the lower threshold based on max found\n",
        "  thr = 0.32\n",
        "  low_thr = int(max_window - (0.32 * max_window))\n",
        "  # print(max_window, low_thr)\n",
        "\n",
        "  ## Begin MSw Finding based on Max peak detetion and locallized peak detection\n",
        "  ## Find the local peaks based on lower threshold\n",
        "  GyroZPksPos, _ = find_peaks(GyroZFiltSeg, height=low_thr, distance=fs//1)\n",
        "  GyroZPksVal = GyroZFiltSeg[GyroZPksPos]\n",
        "  # print(GyroZPksVal, GyroZPksPos)\n",
        "\n",
        "  # plt.figure(figsize=(20, 5))\n",
        "  # plt.title('Peak Finding [Major Swing]', fontsize = font_size)\n",
        "  # plt.plot(GyroZFiltSeg, label='Filtered Data', alpha=0.6, linewidth=2)\n",
        "  # plt.plot(GyroZPksPos, GyroZFiltSeg[GyroZPksPos], \"x\", label='MSw')\n",
        "  # plt.xlabel('Samples', fontsize = font_size)\n",
        "  # plt.ylabel('Amplitude', fontsize = font_size)\n",
        "  # plt.legend(fontsize = font_size)\n",
        "  # plt.grid(True)\n",
        "  # plt.tight_layout()\n",
        "  # plt.show()\n",
        "\n",
        "  ## Begin finding the TO (towards Left of MSw) and IC (towards Right of MSw)\n",
        "  GyroZPksPosLeftMin, GyroZPksPosRightMin = [], []\n",
        "  for i in range(len(GyroZPksPos)):\n",
        "    if (i == 0):\n",
        "      low, high = (GyroZPksPos[i]), (GyroZPksPos[i]+50)\n",
        "      b = GyroZPksPos[i] + np.argmin(GyroZFiltSeg[low : high])\n",
        "      #print(b, GyroZPksPos[i])\n",
        "      GyroZPksPosRightMin.append(b)\n",
        "    else:\n",
        "      #print(i)\n",
        "      low, high = (GyroZPksPos[i]-50), (GyroZPksPos[i])\n",
        "      a = GyroZPksPos[i] - 50 + np.argmin(GyroZFiltSeg[low : high])\n",
        "      #print(a, GyroZPksPos[i])\n",
        "      GyroZPksPosLeftMin.append(a)\n",
        "\n",
        "      if ((GyroZPksPos[i]+50) > len(GyroZFiltSeg)):\n",
        "        continue\n",
        "      else:\n",
        "        low, high = (GyroZPksPos[i]), (GyroZPksPos[i]+50)\n",
        "        b = GyroZPksPos[i] + np.argmin(GyroZFiltSeg[low : high])\n",
        "        #print(b, GyroZPksPos[i])\n",
        "        GyroZPksPosRightMin.append(b)\n",
        "\n",
        "  # plt.figure(figsize=(20, 5))\n",
        "  # plt.title('Peak Finding [Major-Swing (MSw), Toe-Off (TO), Initial Contact (IC)]', fontsize = font_size)\n",
        "  # plt.plot(GyroZFiltSeg, label='Filtered Data', alpha=0.6, linewidth=2)\n",
        "  # plt.plot(GyroZPksPos, GyroZFiltSeg[GyroZPksPos], \"x\", label='MSw')\n",
        "  # plt.plot(GyroZPksPosLeftMin, GyroZFiltSeg[GyroZPksPosLeftMin], \"x\", label='TO')\n",
        "  # plt.plot(GyroZPksPosRightMin, GyroZFiltSeg[GyroZPksPosRightMin], \"x\", label='IC')\n",
        "  # plt.xlabel('Samples', fontsize = font_size)\n",
        "  # plt.ylabel('Amplitude', fontsize = font_size)\n",
        "  # plt.legend(fontsize = font_size)\n",
        "  # plt.grid(True)\n",
        "  # plt.tight_layout()\n",
        "  # plt.show()\n",
        "\n",
        "  ## Begin Finding MSt (Between IC and TO)\n",
        "  if (GyroZPksPosLeftMin > GyroZPksPosRightMin):\n",
        "    loop_len = len(GyroZPksPosLeftMin)\n",
        "  else:\n",
        "    loop_len = len(GyroZPksPosRightMin)\n",
        "\n",
        "  GyroZPksPosMSt = []\n",
        "  for i in range(loop_len):\n",
        "    low, high = (GyroZPksPosRightMin[i]), (GyroZPksPosLeftMin[i])\n",
        "    a = GyroZPksPosRightMin[i] + np.argmax(GyroZFiltSeg[low : high])\n",
        "    #print(a, GyroZPksPos[i])\n",
        "    GyroZPksPosMSt.append(a)\n",
        "\n",
        "  # plt.figure(figsize=(20, 5))\n",
        "  # plt.title('Peak Finding [Major-Swing (MSw), Toe-Off (TO), Initial Contact (IC), Major-Stance (MSt)]', fontsize = font_size)\n",
        "  # plt.plot(GyroZFiltSeg, label='Filtered Data', alpha=0.6, linewidth=2)\n",
        "  # plt.plot(GyroZPksPos, GyroZFiltSeg[GyroZPksPos], \"x\", label='MSw')\n",
        "  # plt.plot(GyroZPksPosLeftMin, GyroZFiltSeg[GyroZPksPosLeftMin], \"x\", label='TO')\n",
        "  # plt.plot(GyroZPksPosRightMin, GyroZFiltSeg[GyroZPksPosRightMin], \"x\", label='IC')\n",
        "  # plt.plot(GyroZPksPosMSt, GyroZFiltSeg[GyroZPksPosMSt], \"x\", label='MSt')\n",
        "  # plt.xlabel('Samples', fontsize = font_size)\n",
        "  # plt.ylabel('Amplitude', fontsize = font_size)\n",
        "  # plt.legend(fontsize = font_size)\n",
        "  # plt.grid(True)\n",
        "  # plt.tight_layout()\n",
        "  # plt.show()\n",
        "\n",
        "  # MSw = Orange; IC = Red; MSt = Purple; TO = Green\n",
        "  # label ->\n",
        "  # 0 = IC to MSt\n",
        "  # 1 = MSt to TO\n",
        "  # 2 = TO to MSw\n",
        "  # 3 = MSw to IC\n",
        "  # 4 = N/A\n",
        "\n",
        "  label = []\n",
        "  for n in range(0, GyroZPksPos[0]):\n",
        "    label.append(4)\n",
        "\n",
        "  for idx in range(len(GyroZPksPos)-1):\n",
        "    for m in range(GyroZPksPos[idx], GyroZPksPosRightMin[idx]):\n",
        "      label.append(3)\n",
        "    for j in range(GyroZPksPosRightMin[idx], GyroZPksPosMSt[idx]):\n",
        "      label.append(0)\n",
        "    for k in range(GyroZPksPosMSt[idx], GyroZPksPosLeftMin[idx]):\n",
        "      label.append(1)\n",
        "    for i in range(GyroZPksPosLeftMin[idx], GyroZPksPos[idx+1]):\n",
        "      label.append(2)\n",
        "    # print(GyroZPksPos[idx], GyroZPksPosRightMin[idx], GyroZPksPosMSt[idx], GyroZPksPosLeftMin[idx])\n",
        "\n",
        "  for o in range(GyroZPksPos[len(GyroZPksPos)-1], len(GyroZFiltSeg)):\n",
        "    label.append(4)\n",
        "\n",
        "  # labels = tf.constant(label)\n",
        "  # num_classes = tf.reduce_max(labels) + 1\n",
        "  # one_hot_encoded = tf.one_hot(labels, depth=num_classes)\n",
        "  # for i in one_hot_encoded:\n",
        "  #   print(i)\n",
        "\n",
        "  # for i in range(len(label)):\n",
        "  #   label[i] = label[i]*100 + int(np.mean(GyroZFiltSeg))\n",
        "\n",
        "  fig, ax1 = plt.subplots(figsize=(20, 5))\n",
        "  plt.title('Peak Finding [Major-Swing (MSw), Toe-Off (TO), Initial Contact (IC), Major-Stance (MSt)]', fontsize=font_size)\n",
        "  # Plotting on the first y-axis\n",
        "  ax1.plot(GyroZFiltSeg, label='Filtered Data', alpha=0.6, linewidth=2)\n",
        "  ax1.plot(GyroZPksPos, GyroZFiltSeg[GyroZPksPos], \"x\", label='MSw')\n",
        "  ax1.plot(GyroZPksPosLeftMin, GyroZFiltSeg[GyroZPksPosLeftMin], \"x\", label='TO')\n",
        "  ax1.plot(GyroZPksPosRightMin, GyroZFiltSeg[GyroZPksPosRightMin], \"x\", label='IC')\n",
        "  ax1.plot(GyroZPksPosMSt, GyroZFiltSeg[GyroZPksPosMSt], \"x\", label='MSt')\n",
        "  ax1.set_xlabel('Samples', fontsize=font_size)\n",
        "  ax1.set_ylabel('Amplitude', fontsize=font_size)\n",
        "  ax1.legend(loc='upper left', fontsize=font_size)\n",
        "  # Creating a second y-axis\n",
        "  ax2 = ax1.twinx()\n",
        "  ax2.plot(label, \"--\", label='Label', color='orange')\n",
        "  ax2.set_ylabel('Label', fontsize=font_size)\n",
        "  # Manually setting tick labels\n",
        "  tick_labels = ['Heel Strike', 'Mid-Stance', 'Toe-Off', 'Mid Swing', 'N/A']\n",
        "  ax2.set_yticks([0, 1, 2, 3, 4])\n",
        "  ax2.set_yticklabels(tick_labels, fontsize=font_size)\n",
        "  ax2.legend(loc='upper right', fontsize=font_size)\n",
        "  plt.grid(True)\n",
        "  plt.tight_layout()\n",
        "  plt.show()\n",
        "\n",
        "  # Create a dataframe with the specified columns\n",
        "  df = pd.DataFrame({\n",
        "        'AccX (g)': AccXFiltSeg,\n",
        "        'AccY (g)': AccYFiltSeg,\n",
        "        'AccZ (g)': AccZFiltSeg,\n",
        "        'GyroX (deg/s)': GyroXFiltSeg,\n",
        "        'GyroY (deg/s)': GyroYFiltSeg,\n",
        "        'GyroZ (deg/s)': GyroZFiltSeg,\n",
        "        'Heel ADC0': HeelADCRaw,\n",
        "        'MidFoot ADC1': MidFootADCRaw,\n",
        "        'Toe ADC2': ToeADCRaw,\n",
        "        'LABEL': label\n",
        "    })\n",
        "\n",
        "  df = df[df['LABEL'] != 4]\n",
        "  # Perform one-hot encoding on the 'LABEL' column\n",
        "  df = pd.get_dummies(df, columns=['LABEL'], prefix='label')\n",
        "  # df['LABEL'].value_counts().plot(kind='bar') #Plot freuqncy of class\n",
        "\n",
        "  # print(df.head())\n",
        "\n",
        "  dataframes.append(df)\n"
      ],
      "metadata": {
        "id": "X3_QkfvpXSnO",
        "colab": {
          "base_uri": "https://localhost:8080/"
        },
        "outputId": "dcadc54c-3f3c-4a7a-c11e-850fdb2a0ac2"
      },
      "execution_count": null,
      "outputs": []
    },
    {
      "cell_type": "markdown",
      "source": [
        "# Save Labelled data into CSV file"
      ],
      "metadata": {
        "id": "iDqr47LNRxLP"
      }
    },
    {
      "cell_type": "code",
      "source": [
        "# # This code will store the result in same columns.\n",
        "# # Ensure the result directory exists\n",
        "# os.makedirs(result_path, exist_ok=True)\n",
        "\n",
        "# # Concatenate all dataframes in the list\n",
        "# result_df = pd.concat(dataframes, ignore_index=True)\n",
        "\n",
        "# # Save the concatenated dataframe to a CSV file\n",
        "# result_file_path = os.path.join(result_path, 'result.csv')\n",
        "# result_df.to_csv(result_file_path, index=False)\n",
        "\n",
        "# print(f\"Result CSV file saved at: {result_file_path}\")"
      ],
      "metadata": {
        "id": "aBcGDsIscZ7s"
      },
      "execution_count": null,
      "outputs": []
    },
    {
      "cell_type": "code",
      "source": [
        "# # This code will store the result in different columns.\n",
        "# # Set the path to save the result CSV file\n",
        "# result_file = 'result.csv'\n",
        "\n",
        "# # Create the result directory if it doesn't exist\n",
        "# if not os.path.exists(result_path):\n",
        "#     os.makedirs(result_path)\n",
        "\n",
        "# # Assuming 'dataframes' is the list of dataframes from the previous code\n",
        "# # Create a dictionary to store dataframes as columns\n",
        "# df_dict = {'df{}'.format(i): df for i, df in enumerate(dataframes)}\n",
        "\n",
        "# # Create a single dataframe with columns as dataframes\n",
        "# result_df = pd.concat(df_dict, axis=1)\n",
        "\n",
        "# # Save the result dataframe to a CSV file\n",
        "# result_df.to_csv(os.path.join(result_path, result_file), index=False)"
      ],
      "metadata": {
        "id": "NfZTik6Rc1rs"
      },
      "execution_count": null,
      "outputs": []
    },
    {
      "cell_type": "code",
      "source": [
        "# This code will store the result in different CSV files.\n",
        "\n",
        "# Create the result directory if it doesn't exist\n",
        "if not os.path.exists(result_path):\n",
        "    os.makedirs(result_path)\n",
        "else:\n",
        "    # Delete all files in the result_path directory\n",
        "    files_to_delete = os.listdir(result_path)\n",
        "    for file_to_delete in files_to_delete:\n",
        "        file_path = os.path.join(result_path, file_to_delete)\n",
        "        os.remove(file_path)\n",
        "\n",
        "# Save each dataframe to a separate CSV file\n",
        "for i, df in enumerate(dataframes):\n",
        "    csv_file = f'df_{i}.csv'\n",
        "    csv_path = os.path.join(result_path, csv_file)\n",
        "    df.to_csv(csv_path, index=False)\n"
      ],
      "metadata": {
        "id": "_fM3qmvCTcEq"
      },
      "execution_count": null,
      "outputs": []
    },
    {
      "cell_type": "markdown",
      "source": [
        "# Machine Learning Section"
      ],
      "metadata": {
        "id": "ptvEBc_QR3uQ"
      }
    },
    {
      "cell_type": "code",
      "source": [
        "import tensorflow as tf\n",
        "print(tf.version.VERSION)"
      ],
      "metadata": {
        "colab": {
          "base_uri": "https://localhost:8080/"
        },
        "id": "OAW7NxJvRtnY",
        "outputId": "7bdcf686-05c1-4e98-ff2c-f68b4a7d6fdc"
      },
      "execution_count": null,
      "outputs": [
        {
          "output_type": "stream",
          "name": "stdout",
          "text": [
            "2.12.0\n"
          ]
        }
      ]
    },
    {
      "cell_type": "markdown",
      "source": [
        "## Loading the dataset"
      ],
      "metadata": {
        "id": "eZvVXvXHcKDa"
      }
    },
    {
      "cell_type": "code",
      "source": [
        "new_csv_files = [file for file in os.listdir(result_path) if file.endswith('.csv')]\n",
        "print(new_csv_files)\n",
        "\n",
        "for i, csv_file in enumerate(new_csv_files):\n",
        "    file_path = os.path.join(result_path, csv_file)\n",
        "    df_data = pd.read_csv(file_path)\n",
        "    if (i == 0):\n",
        "      df_data_append = df_data\n",
        "    else:\n",
        "      df_data_append = pd.concat([df_data_append, df_data], ignore_index=True)\n",
        "\n",
        "recordings = df_data_append.to_numpy()\n",
        "print(\"recordings shape:\", recordings.shape)"
      ],
      "metadata": {
        "id": "mkrmtMsITIkZ",
        "colab": {
          "base_uri": "https://localhost:8080/"
        },
        "outputId": "412730d2-7eaa-4fae-8721-e2a26510c6dd"
      },
      "execution_count": null,
      "outputs": [
        {
          "output_type": "stream",
          "name": "stdout",
          "text": [
            "['df_0.csv', 'df_54.csv', 'df_44.csv', 'df_53.csv', 'df_52.csv', 'df_1.csv', 'df_55.csv', 'df_2.csv', 'df_3.csv', 'df_5.csv', 'df_6.csv', 'df_4.csv', 'df_7.csv', 'df_8.csv', 'df_10.csv', 'df_9.csv', 'df_14.csv', 'df_11.csv', 'df_12.csv', 'df_13.csv', 'df_17.csv', 'df_16.csv', 'df_15.csv', 'df_18.csv', 'df_19.csv', 'df_20.csv', 'df_21.csv', 'df_24.csv', 'df_25.csv', 'df_23.csv', 'df_22.csv', 'df_26.csv', 'df_27.csv', 'df_28.csv', 'df_29.csv', 'df_30.csv', 'df_33.csv', 'df_34.csv', 'df_31.csv', 'df_35.csv', 'df_36.csv', 'df_32.csv', 'df_38.csv', 'df_37.csv', 'df_39.csv', 'df_40.csv', 'df_41.csv', 'df_43.csv', 'df_42.csv', 'df_45.csv', 'df_48.csv', 'df_46.csv', 'df_47.csv', 'df_50.csv', 'df_49.csv', 'df_51.csv', 'df_59.csv', 'df_57.csv', 'df_58.csv', 'df_56.csv']\n",
            "recordings shape: (284513, 13)\n"
          ]
        }
      ]
    },
    {
      "cell_type": "code",
      "source": [
        "print(recordings[:, -4:])"
      ],
      "metadata": {
        "colab": {
          "base_uri": "https://localhost:8080/"
        },
        "id": "YtyozXZis7eL",
        "outputId": "4c234e9e-6a12-4d58-df57-51c7ef1bd15d"
      },
      "execution_count": null,
      "outputs": [
        {
          "output_type": "stream",
          "name": "stdout",
          "text": [
            "[[0. 0. 0. 1.]\n",
            " [0. 0. 0. 1.]\n",
            " [0. 0. 0. 1.]\n",
            " ...\n",
            " [0. 0. 1. 0.]\n",
            " [0. 0. 1. 0.]\n",
            " [0. 0. 1. 0.]]\n"
          ]
        }
      ]
    },
    {
      "cell_type": "code",
      "source": [
        "# Split the 'all_frames' array into 'x_frames' and 'y_frames'\n",
        "x_recording = recordings[:, :-4]  # Take the first 9 columns for each frame\n",
        "y_recording = recordings[:, -4:]   # Take the last column for each frame\n",
        "\n",
        "print(\"x_recording shape:\", x_recording.shape)\n",
        "print(\"y_recording shape:\", y_recording.shape)"
      ],
      "metadata": {
        "colab": {
          "base_uri": "https://localhost:8080/"
        },
        "id": "uDsH5Vfbcf0o",
        "outputId": "4498cefc-360e-4183-a64b-d1dcd1eabc41"
      },
      "execution_count": null,
      "outputs": [
        {
          "output_type": "stream",
          "name": "stdout",
          "text": [
            "x_recording shape: (284513, 9)\n",
            "y_recording shape: (284513, 4)\n"
          ]
        }
      ]
    },
    {
      "cell_type": "markdown",
      "source": [
        "## Frame data"
      ],
      "metadata": {
        "id": "4r1jLTe5cMCw"
      }
    },
    {
      "cell_type": "code",
      "source": [
        "def frame(x, frame_len, hop_len):\n",
        "    ''' Slice a 3D data array into (overlapping) frames. '''\n",
        "\n",
        "    assert(x.shape == (len(x), x.shape[1]))\n",
        "    assert(x.shape[0] >= frame_len)\n",
        "    assert(hop_len >= 1)\n",
        "\n",
        "    n_frames = 1 + (x.shape[0] - frame_len) // hop_len\n",
        "    shape = (n_frames, frame_len, x.shape[1])\n",
        "    strides_x = ((hop_len * x.strides[0],) + x.strides)\n",
        "\n",
        "    return np.lib.stride_tricks.as_strided(x, shape=shape, strides=strides_x)\n",
        "\n",
        "# all_frames = frame(recordings, 26, 26) # no overlap\n",
        "x_frames = frame(x_recording, 25, 7) # 50% overlap\n",
        "x_frames = np.array(x_frames)\n",
        "print(x_frames.shape)\n",
        "y_frames = frame(y_recording, 25, 7) # 50% overlap\n",
        "y_frames = np.array(y_frames)\n",
        "print(y_frames.shape)"
      ],
      "metadata": {
        "colab": {
          "base_uri": "https://localhost:8080/"
        },
        "id": "xQKavsmQWnla",
        "outputId": "15e90d1e-deac-4f1e-e02a-034f6de84798"
      },
      "execution_count": null,
      "outputs": [
        {
          "output_type": "stream",
          "name": "stdout",
          "text": [
            "(40642, 25, 9)\n",
            "(40642, 25, 4)\n"
          ]
        }
      ]
    },
    {
      "cell_type": "markdown",
      "source": [
        "## Preprocessing the dataset"
      ],
      "metadata": {
        "id": "Ri5xZKofs-0u"
      }
    },
    {
      "cell_type": "code",
      "source": [
        "# # Normalize x_frames between [-1;1]\n",
        "# min_val = np.min(x_frames)\n",
        "# max_val = np.max(x_frames)\n",
        "# x_frames_normed = -1 + 2 * (x_frames - min_val) / (max_val - min_val)\n",
        "# print(\"Normalized x_frame shape:\", x_frames_normed.shape)\n",
        "\n",
        "# Normalize x_frames between [-1, 1] - for every col\n",
        "min_val = np.min(x_frames, axis=(0, 1))  # Calculate minimum along axes 0 and 1\n",
        "max_val = np.max(x_frames, axis=(0, 1))  # Calculate maximum along axes 0 and 1\n",
        "x_frames_normed = -1 + 2 * (x_frames - min_val) / (max_val - min_val)\n",
        "print(\"Original x_frames shape:\", x_frames.shape)\n",
        "print(\"Normalized x_frames shape:\", x_frames_normed.shape)\n",
        "# x_frames_normed[0]"
      ],
      "metadata": {
        "colab": {
          "base_uri": "https://localhost:8080/"
        },
        "id": "SyNr2HL8tCMF",
        "outputId": "b6f0d465-3236-402e-a4b6-f2103dd0de2b"
      },
      "execution_count": null,
      "outputs": [
        {
          "output_type": "stream",
          "name": "stdout",
          "text": [
            "Original x_frames shape: (40642, 25, 9)\n",
            "Normalized x_frames shape: (40642, 25, 9)\n"
          ]
        }
      ]
    },
    {
      "cell_type": "code",
      "source": [
        "appen_label = []\n",
        "for j in range(0, len(y_frames)):\n",
        "  appen_label.append(np.argmax(np.sum(y_frames[j], axis=0)))\n",
        "  # print(y_frames[j], '\\n', np.argmax(np.sum(y_frames[j], axis=0)), '\\n')\n",
        "  # # print(y_frames[j], '\\n', np.argmax(np.bincount(np.argmax(y_frames[j], axis=1))), '\\n')\n",
        "y_frames = np.array(appen_label)\n",
        "# print(\"x_frames shape:\", x_frames.shape)\n",
        "# print(\"y_frames shape:\", y_frames.shape)"
      ],
      "metadata": {
        "id": "rF7THs3QzlTQ"
      },
      "execution_count": null,
      "outputs": []
    },
    {
      "cell_type": "code",
      "source": [
        "# Display the one-hot encoded array\n",
        "print(\"Original array:\")\n",
        "print(y_frames)\n",
        "# Perform one-hot encoding\n",
        "y_frames = tf.keras.utils.to_categorical(y_frames, num_classes=4)\n",
        "print(\"\\nOne-hot encoded array:\")\n",
        "print(y_frames)\n",
        "\n",
        "print(\"x_frames shape:\", x_frames.shape)\n",
        "print(\"y_frames shape:\", y_frames.shape)"
      ],
      "metadata": {
        "colab": {
          "base_uri": "https://localhost:8080/"
        },
        "id": "Eh1dumGh-ycZ",
        "outputId": "3158852b-63d2-4479-9315-853df42f1ea5"
      },
      "execution_count": null,
      "outputs": [
        {
          "output_type": "stream",
          "name": "stdout",
          "text": [
            "Original array:\n",
            "[3 3 3 ... 2 2 2]\n",
            "\n",
            "One-hot encoded array:\n",
            "[[0. 0. 0. 1.]\n",
            " [0. 0. 0. 1.]\n",
            " [0. 0. 0. 1.]\n",
            " ...\n",
            " [0. 0. 1. 0.]\n",
            " [0. 0. 1. 0.]\n",
            " [0. 0. 1. 0.]]\n",
            "x_frames shape: (40642, 25, 9)\n",
            "y_frames shape: (40642, 4)\n"
          ]
        }
      ]
    },
    {
      "cell_type": "markdown",
      "source": [
        "## Preparing the dataset (train, test, split)"
      ],
      "metadata": {
        "id": "2dImq6M2s9ll"
      }
    },
    {
      "cell_type": "code",
      "source": [
        "# Assuming x_data and y_data are your features and labels\n",
        "x_train_temp, x_test, y_train_temp, y_test = train_test_split(x_frames_normed, y_frames, test_size=0.2, random_state=42)\n",
        "\n",
        "# Split the temporary set into training and validation sets\n",
        "x_train, x_val, y_train, y_val = train_test_split(x_train_temp, y_train_temp, test_size=0.25, random_state=42)\n",
        "\n",
        "# Display the shapes of the resulting sets\n",
        "print(\"Training set shapes:\", x_train.shape, y_train.shape)\n",
        "print(\"Validation set shapes:\", x_val.shape, y_val.shape)\n",
        "print(\"Test set shapes:\", x_test.shape, y_test.shape)"
      ],
      "metadata": {
        "colab": {
          "base_uri": "https://localhost:8080/"
        },
        "id": "TulnT_imsPUG",
        "outputId": "10a1e628-0388-4de0-c094-0be4f10b081c"
      },
      "execution_count": null,
      "outputs": [
        {
          "output_type": "stream",
          "name": "stdout",
          "text": [
            "Training set shapes: (24384, 25, 9) (24384, 4)\n",
            "Validation set shapes: (8129, 25, 9) (8129, 4)\n",
            "Test set shapes: (8129, 25, 9) (8129, 4)\n"
          ]
        }
      ]
    },
    {
      "cell_type": "markdown",
      "metadata": {
        "id": "wVJATu_oIBjS"
      },
      "source": [
        "## Creating the model"
      ]
    },
    {
      "cell_type": "code",
      "metadata": {
        "id": "AbNvrqUeIavW",
        "colab": {
          "base_uri": "https://localhost:8080/"
        },
        "outputId": "a28fe3bd-c9de-49a7-a90a-5d1a591d5f21"
      },
      "source": [
        "## Conv1D based model\n",
        "model = tf.keras.models.Sequential([\n",
        "  tf.keras.layers.Conv1D(filters=8, kernel_size=5, activation='relu', input_shape=(25, 9)),\n",
        "  tf.keras.layers.Conv1D(filters=16, kernel_size=3, activation='relu'),\n",
        "  tf.keras.layers.Dropout(0.1), #0.5 too large\n",
        "  tf.keras.layers.Conv1D(filters=32, kernel_size=3, activation='relu'),\n",
        "  tf.keras.layers.MaxPooling1D(pool_size=2), # maxpool\n",
        "\n",
        "  tf.keras.layers.Conv1D(filters=64, kernel_size=3, activation='relu'),\n",
        "  tf.keras.layers.MaxPooling1D(pool_size=2), # maxpool\n",
        "\n",
        "  tf.keras.layers.Flatten(),\n",
        "  # tf.keras.layers.Dense(64, activation='relu'),\n",
        "  tf.keras.layers.Dense(4, activation='softmax')\n",
        "])\n",
        "\n",
        "model.compile(optimizer='adam', loss='categorical_crossentropy', metrics=['accuracy'])\n",
        "model.fit(x_train, y_train, epochs=30)"
      ],
      "execution_count": null,
      "outputs": [
        {
          "output_type": "stream",
          "name": "stdout",
          "text": [
            "Epoch 1/30\n",
            "762/762 [==============================] - 5s 5ms/step - loss: 0.3152 - accuracy: 0.8723\n",
            "Epoch 2/30\n",
            "762/762 [==============================] - 5s 6ms/step - loss: 0.1787 - accuracy: 0.9259\n",
            "Epoch 3/30\n",
            "762/762 [==============================] - 6s 8ms/step - loss: 0.1534 - accuracy: 0.9348\n",
            "Epoch 4/30\n",
            "762/762 [==============================] - 4s 5ms/step - loss: 0.1371 - accuracy: 0.9414\n",
            "Epoch 5/30\n",
            "762/762 [==============================] - 3s 5ms/step - loss: 0.1249 - accuracy: 0.9473\n",
            "Epoch 6/30\n",
            "762/762 [==============================] - 4s 5ms/step - loss: 0.1179 - accuracy: 0.9494\n",
            "Epoch 7/30\n",
            "762/762 [==============================] - 6s 8ms/step - loss: 0.1097 - accuracy: 0.9535\n",
            "Epoch 8/30\n",
            "762/762 [==============================] - 5s 7ms/step - loss: 0.1078 - accuracy: 0.9548\n",
            "Epoch 9/30\n",
            "762/762 [==============================] - 4s 5ms/step - loss: 0.1020 - accuracy: 0.9572\n",
            "Epoch 10/30\n",
            "762/762 [==============================] - 5s 6ms/step - loss: 0.0984 - accuracy: 0.9590\n",
            "Epoch 11/30\n",
            "762/762 [==============================] - 6s 7ms/step - loss: 0.0953 - accuracy: 0.9609\n",
            "Epoch 12/30\n",
            "762/762 [==============================] - 5s 6ms/step - loss: 0.0909 - accuracy: 0.9623\n",
            "Epoch 13/30\n",
            "762/762 [==============================] - 4s 5ms/step - loss: 0.0950 - accuracy: 0.9611\n",
            "Epoch 14/30\n",
            "762/762 [==============================] - 3s 4ms/step - loss: 0.0899 - accuracy: 0.9631\n",
            "Epoch 15/30\n",
            "762/762 [==============================] - 5s 6ms/step - loss: 0.0855 - accuracy: 0.9652\n",
            "Epoch 16/30\n",
            "762/762 [==============================] - 5s 7ms/step - loss: 0.0853 - accuracy: 0.9651\n",
            "Epoch 17/30\n",
            "762/762 [==============================] - 4s 5ms/step - loss: 0.0844 - accuracy: 0.9652\n",
            "Epoch 18/30\n",
            "762/762 [==============================] - 4s 5ms/step - loss: 0.0807 - accuracy: 0.9679\n",
            "Epoch 19/30\n",
            "762/762 [==============================] - 5s 7ms/step - loss: 0.0827 - accuracy: 0.9665\n",
            "Epoch 20/30\n",
            "762/762 [==============================] - 6s 8ms/step - loss: 0.0789 - accuracy: 0.9681\n",
            "Epoch 21/30\n",
            "762/762 [==============================] - 4s 5ms/step - loss: 0.0813 - accuracy: 0.9664\n",
            "Epoch 22/30\n",
            "762/762 [==============================] - 4s 5ms/step - loss: 0.0775 - accuracy: 0.9682\n",
            "Epoch 23/30\n",
            "762/762 [==============================] - 4s 5ms/step - loss: 0.0754 - accuracy: 0.9684\n",
            "Epoch 24/30\n",
            "762/762 [==============================] - 5s 7ms/step - loss: 0.0758 - accuracy: 0.9694\n",
            "Epoch 25/30\n",
            "762/762 [==============================] - 5s 6ms/step - loss: 0.0757 - accuracy: 0.9687\n",
            "Epoch 26/30\n",
            "762/762 [==============================] - 4s 5ms/step - loss: 0.0720 - accuracy: 0.9717\n",
            "Epoch 27/30\n",
            "762/762 [==============================] - 4s 5ms/step - loss: 0.0757 - accuracy: 0.9692\n",
            "Epoch 28/30\n",
            "762/762 [==============================] - 5s 6ms/step - loss: 0.0746 - accuracy: 0.9701\n",
            "Epoch 29/30\n",
            "762/762 [==============================] - 6s 7ms/step - loss: 0.0747 - accuracy: 0.9699\n",
            "Epoch 30/30\n",
            "762/762 [==============================] - 4s 5ms/step - loss: 0.0716 - accuracy: 0.9697\n"
          ]
        },
        {
          "output_type": "execute_result",
          "data": {
            "text/plain": [
              "<keras.callbacks.History at 0x7f1b550b0af0>"
            ]
          },
          "metadata": {},
          "execution_count": 163
        }
      ]
    },
    {
      "cell_type": "markdown",
      "source": [
        "## Evaluate Model for Test and Validation data"
      ],
      "metadata": {
        "id": "_KxWfpqg6KAs"
      }
    },
    {
      "cell_type": "code",
      "source": [
        "test_loss, test_acc = model.evaluate(x_test,  y_test, verbose=2)\n",
        "\n",
        "print(\"Test loss:\", test_loss)\n",
        "print(\"Test acc:\", test_acc)\n",
        "print()\n",
        "model.summary()"
      ],
      "metadata": {
        "id": "3___g5CdvPiW",
        "colab": {
          "base_uri": "https://localhost:8080/"
        },
        "outputId": "2a1fe3a9-7057-4b02-c3ee-b672d9e0f119"
      },
      "execution_count": null,
      "outputs": [
        {
          "output_type": "stream",
          "name": "stdout",
          "text": [
            "255/255 - 2s - loss: 0.0632 - accuracy: 0.9738 - 2s/epoch - 7ms/step\n",
            "Test loss: 0.06319670379161835\n",
            "Test acc: 0.9737975001335144\n",
            "\n",
            "Model: \"sequential_7\"\n",
            "_________________________________________________________________\n",
            " Layer (type)                Output Shape              Param #   \n",
            "=================================================================\n",
            " conv1d_27 (Conv1D)          (None, 21, 8)             368       \n",
            "                                                                 \n",
            " conv1d_28 (Conv1D)          (None, 19, 16)            400       \n",
            "                                                                 \n",
            " dropout_7 (Dropout)         (None, 19, 16)            0         \n",
            "                                                                 \n",
            " conv1d_29 (Conv1D)          (None, 17, 32)            1568      \n",
            "                                                                 \n",
            " max_pooling1d_13 (MaxPoolin  (None, 8, 32)            0         \n",
            " g1D)                                                            \n",
            "                                                                 \n",
            " conv1d_30 (Conv1D)          (None, 6, 64)             6208      \n",
            "                                                                 \n",
            " max_pooling1d_14 (MaxPoolin  (None, 3, 64)            0         \n",
            " g1D)                                                            \n",
            "                                                                 \n",
            " flatten_7 (Flatten)         (None, 192)               0         \n",
            "                                                                 \n",
            " dense_7 (Dense)             (None, 4)                 772       \n",
            "                                                                 \n",
            "=================================================================\n",
            "Total params: 9,316\n",
            "Trainable params: 9,316\n",
            "Non-trainable params: 0\n",
            "_________________________________________________________________\n"
          ]
        }
      ]
    },
    {
      "cell_type": "code",
      "source": [
        "val_loss, val_acc = model.evaluate(x_val,  y_val, verbose=2)\n",
        "\n",
        "print(\"Test loss:\", val_loss)\n",
        "print(\"Test acc:\", val_acc)\n",
        "print()\n",
        "model.summary()"
      ],
      "metadata": {
        "colab": {
          "base_uri": "https://localhost:8080/"
        },
        "id": "iEfxxM4WBoBf",
        "outputId": "ceccafb5-4125-476f-db20-72628d13d387"
      },
      "execution_count": null,
      "outputs": [
        {
          "output_type": "stream",
          "name": "stdout",
          "text": [
            "255/255 - 1s - loss: 0.0682 - accuracy: 0.9720 - 861ms/epoch - 3ms/step\n",
            "Test loss: 0.06820133328437805\n",
            "Test acc: 0.9719522595405579\n",
            "\n",
            "Model: \"sequential_7\"\n",
            "_________________________________________________________________\n",
            " Layer (type)                Output Shape              Param #   \n",
            "=================================================================\n",
            " conv1d_27 (Conv1D)          (None, 21, 8)             368       \n",
            "                                                                 \n",
            " conv1d_28 (Conv1D)          (None, 19, 16)            400       \n",
            "                                                                 \n",
            " dropout_7 (Dropout)         (None, 19, 16)            0         \n",
            "                                                                 \n",
            " conv1d_29 (Conv1D)          (None, 17, 32)            1568      \n",
            "                                                                 \n",
            " max_pooling1d_13 (MaxPoolin  (None, 8, 32)            0         \n",
            " g1D)                                                            \n",
            "                                                                 \n",
            " conv1d_30 (Conv1D)          (None, 6, 64)             6208      \n",
            "                                                                 \n",
            " max_pooling1d_14 (MaxPoolin  (None, 3, 64)            0         \n",
            " g1D)                                                            \n",
            "                                                                 \n",
            " flatten_7 (Flatten)         (None, 192)               0         \n",
            "                                                                 \n",
            " dense_7 (Dense)             (None, 4)                 772       \n",
            "                                                                 \n",
            "=================================================================\n",
            "Total params: 9,316\n",
            "Trainable params: 9,316\n",
            "Non-trainable params: 0\n",
            "_________________________________________________________________\n"
          ]
        }
      ]
    },
    {
      "cell_type": "markdown",
      "source": [
        "## Predicted Data"
      ],
      "metadata": {
        "id": "vsQ_Ke-W6QA7"
      }
    },
    {
      "cell_type": "code",
      "source": [
        "Y_pred = model.predict(x_test)"
      ],
      "metadata": {
        "id": "DA0aTrYhuW-d",
        "colab": {
          "base_uri": "https://localhost:8080/"
        },
        "outputId": "16fa3146-a494-4649-b35d-e836d258f9ea"
      },
      "execution_count": null,
      "outputs": [
        {
          "output_type": "stream",
          "name": "stdout",
          "text": [
            "255/255 [==============================] - 1s 3ms/step\n"
          ]
        }
      ]
    },
    {
      "cell_type": "code",
      "source": [
        "for i in range(len(Y_pred)):\n",
        "  for j in range(len(Y_pred[i])):\n",
        "    if (Y_pred[i][j] < 0.5):\n",
        "      Y_pred[i][j] = 0\n",
        "    else:\n",
        "      Y_pred[i][j] = 1\n",
        "\n",
        "# Retrieve the original labels for each row\n",
        "original_labels = np.argmax(Y_pred, axis=1)\n",
        "true_labels = np.argmax(y_test, axis=1)\n",
        "# print(\"Original Labels:\", original_labels)\n",
        "\n",
        "# for i in range(len(Y_pred)):\n",
        "#   print(original_labels[i], Y_pred[i], y_test[i])\n",
        "\n",
        "# k=3\n",
        "# plt.plot(original_labels[k: k+100], '.-', label='Predited Label')\n",
        "# plt.plot(original_labels[k: k+100], '.-', label='True Label')\n",
        "# plt.legend()\n",
        "\n",
        "labels = ['Initial Contact', 'Major Stance', 'Toe-Off', 'Major Swing']\n",
        "confusion_matrix = tf.math.confusion_matrix(true_labels, original_labels)\n",
        "plt.figure()\n",
        "sns.heatmap(confusion_matrix,\n",
        "            annot=True,\n",
        "            xticklabels=labels,\n",
        "            yticklabels=labels,\n",
        "            cmap=plt.cm.Blues,\n",
        "            fmt='d', cbar=False)\n",
        "plt.tight_layout()\n",
        "plt.ylabel('True label')\n",
        "plt.xlabel('Predicted label')\n",
        "plt.show()"
      ],
      "metadata": {
        "colab": {
          "base_uri": "https://localhost:8080/",
          "height": 506
        },
        "id": "48l9YaNs5vJv",
        "outputId": "99e5f837-9411-4819-a1f3-32db2a031c32"
      },
      "execution_count": null,
      "outputs": [
        {
          "output_type": "display_data",
          "data": {
            "text/plain": [
              "<Figure size 640x480 with 1 Axes>"
            ],
            "image/png": "[encoded data removed]"
          },
          "metadata": {}
        }
      ]
    },
    {
      "cell_type": "markdown",
      "source": [
        "# Export the model"
      ],
      "metadata": {
        "id": "kVuivAg76WMy"
      }
    },
    {
      "cell_type": "code",
      "source": [
        "# Save the model into an HDF5 file ‘model.h5’\n",
        "model.save('/content/drive/MyDrive/VLSIDC/Model/model.h5')"
      ],
      "metadata": {
        "id": "XnrBR1OEu76f"
      },
      "execution_count": null,
      "outputs": []
    }
  ]
}